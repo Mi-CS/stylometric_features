{
 "cells": [
  {
   "cell_type": "code",
   "execution_count": 163,
   "metadata": {},
   "outputs": [
    {
     "name": "stdout",
     "output_type": "stream",
     "text": [
      "The autoreload extension is already loaded. To reload it, use:\n",
      "  %reload_ext autoreload\n"
     ]
    }
   ],
   "source": [
    "import sys\n",
    "sys.path.append(\"../src\")\n",
    "import pandas as pd\n",
    "from text_cleaning import clean_text\n",
    "from nltk.tokenize import word_tokenize\n",
    "from stylographic_features import get_stylographic_feat\n",
    "\n",
    "%load_ext autoreload\n",
    "%autoreload 2"
   ]
  },
  {
   "cell_type": "code",
   "execution_count": 159,
   "metadata": {},
   "outputs": [],
   "source": [
    "df = pd.read_pickle(\"../data/csCL2000.pkl\")"
   ]
  },
  {
   "cell_type": "code",
   "execution_count": 160,
   "metadata": {},
   "outputs": [],
   "source": [
    "df.drop([\"index\", \"pdf_link_no_export\",\n",
    " \"path_to_pdf\", \"pdf_metadata\"], axis=1, inplace=True)"
   ]
  },
  {
   "cell_type": "code",
   "execution_count": 161,
   "metadata": {},
   "outputs": [],
   "source": [
    "# Example of text cleaning\n",
    "text = df.text_body[0]\n",
    "text = clean_text(text)"
   ]
  },
  {
   "cell_type": "code",
   "execution_count": 164,
   "metadata": {},
   "outputs": [
    {
     "data": {
      "text/plain": [
       "array([ 9.20000000e+01,  6.50000000e+01,  5.63043478e+00,  3.23606508e+00,\n",
       "        7.06521739e-01, -2.76465028e+02,  6.77671846e+00,  9.23171705e-01,\n",
       "       -5.76306387e+02,  1.38461538e-01,  2.76649625e+00, -2.21099084e-01,\n",
       "        3.96321015e+00,  6.25000000e+02,  8.28800000e-01,  1.71200000e-01,\n",
       "        1.28000000e-02,  3.10000000e-01,  0.00000000e+00,  1.00000000e-02,\n",
       "        5.00000000e-02,  0.00000000e+00,  0.00000000e+00,  2.00000000e-02,\n",
       "        1.00000000e-02,  0.00000000e+00,  0.00000000e+00,  3.00000000e-02,\n",
       "        7.00000000e-02,  0.00000000e+00,  3.00000000e-02,  0.00000000e+00,\n",
       "        2.00000000e-02,  1.00000000e-02,  1.00000000e-02,  1.80000000e-01,\n",
       "        0.00000000e+00,  5.00000000e-02,  9.00000000e-02,  0.00000000e+00,\n",
       "        5.00000000e-02,  3.00000000e-02,  0.00000000e+00])"
      ]
     },
     "execution_count": 164,
     "metadata": {},
     "output_type": "execute_result"
    }
   ],
   "source": [
    "get_stylographic_feat(word_tokenize(text)[:100])"
   ]
  },
  {
   "cell_type": "code",
   "execution_count": null,
   "metadata": {},
   "outputs": [],
   "source": []
  }
 ],
 "metadata": {
  "kernelspec": {
   "display_name": "nl_env",
   "language": "python",
   "name": "nl_env"
  },
  "language_info": {
   "codemirror_mode": {
    "name": "ipython",
    "version": 3
   },
   "file_extension": ".py",
   "mimetype": "text/x-python",
   "name": "python",
   "nbconvert_exporter": "python",
   "pygments_lexer": "ipython3",
   "version": "3.9.12"
  },
  "orig_nbformat": 4,
  "vscode": {
   "interpreter": {
    "hash": "b321bc04bdadfb6eb27e7ac9d683988358d2607d6e5a8dbabe1e641355a57b56"
   }
  }
 },
 "nbformat": 4,
 "nbformat_minor": 2
}
