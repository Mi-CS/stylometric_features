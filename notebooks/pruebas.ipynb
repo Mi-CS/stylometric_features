{
 "cells": [
  {
   "cell_type": "code",
   "execution_count": 48,
   "metadata": {},
   "outputs": [
    {
     "name": "stdout",
     "output_type": "stream",
     "text": [
      "The autoreload extension is already loaded. To reload it, use:\n",
      "  %reload_ext autoreload\n"
     ]
    }
   ],
   "source": [
    "import sys\n",
    "sys.path.append(\"../src\")\n",
    "import pandas as pd\n",
    "from text_cleaning import clean_text\n",
    "from nltk.tokenize import word_tokenize\n",
    "from stylographic_features import get_stylographic_feat\n",
    "\n",
    "from style_point_cloud import style_point_cloud\n",
    "\n",
    "from distances import mod_hausdorff_dist\n",
    "\n",
    "%load_ext autoreload\n",
    "%autoreload 2"
   ]
  },
  {
   "cell_type": "code",
   "execution_count": 6,
   "metadata": {},
   "outputs": [],
   "source": [
    "df = pd.read_pickle(\"../data/csCL2000.pkl\")"
   ]
  },
  {
   "cell_type": "code",
   "execution_count": 7,
   "metadata": {},
   "outputs": [],
   "source": [
    "df.drop([\"index\", \"pdf_link_no_export\",\n",
    " \"path_to_pdf\", \"pdf_metadata\"], axis=1, inplace=True)"
   ]
  },
  {
   "cell_type": "code",
   "execution_count": 49,
   "metadata": {},
   "outputs": [
    {
     "name": "stdout",
     "output_type": "stream",
     "text": [
      "1732 4578\n"
     ]
    }
   ],
   "source": [
    "# Example of text cleaning\n",
    "text1 = df.text_body[0]\n",
    "text1 = clean_text(text1)\n",
    "\n",
    "text2 = df.text_body[1]\n",
    "text2 = clean_text(text2)\n",
    "\n",
    "tokenized_text1 = word_tokenize(text1)\n",
    "tokenized_text2 = word_tokenize(text2)\n",
    "print(len(tokenized_text1), \n",
    "        len(tokenized_text2))"
   ]
  },
  {
   "cell_type": "code",
   "execution_count": 61,
   "metadata": {},
   "outputs": [],
   "source": [
    "s_vec1 = style_point_cloud(text1, max_tokens = 1500,\n",
    " window_size=500, window_overlap=400,)\n",
    "            #reduce=\"pca\", redu_kwargs={\"n_components\": 4})\n",
    "s_vec2 = style_point_cloud(text2,\n",
    " window_size=500, window_overlap=400, max_tokens = 2000, )\n",
    "            #reduce=\"pca\", redu_kwargs={\"n_components\": 4})"
   ]
  },
  {
   "cell_type": "code",
   "execution_count": 62,
   "metadata": {},
   "outputs": [
    {
     "data": {
      "text/plain": [
       "68.12366756919658"
      ]
     },
     "execution_count": 62,
     "metadata": {},
     "output_type": "execute_result"
    }
   ],
   "source": [
    "mod_hausdorff_dist(s_vec1, s_vec2)"
   ]
  },
  {
   "cell_type": "code",
   "execution_count": null,
   "metadata": {},
   "outputs": [],
   "source": []
  }
 ],
 "metadata": {
  "kernelspec": {
   "display_name": "nl_env",
   "language": "python",
   "name": "nl_env"
  },
  "language_info": {
   "codemirror_mode": {
    "name": "ipython",
    "version": 3
   },
   "file_extension": ".py",
   "mimetype": "text/x-python",
   "name": "python",
   "nbconvert_exporter": "python",
   "pygments_lexer": "ipython3",
   "version": "3.9.12"
  },
  "orig_nbformat": 4,
  "vscode": {
   "interpreter": {
    "hash": "b321bc04bdadfb6eb27e7ac9d683988358d2607d6e5a8dbabe1e641355a57b56"
   }
  }
 },
 "nbformat": 4,
 "nbformat_minor": 2
}
