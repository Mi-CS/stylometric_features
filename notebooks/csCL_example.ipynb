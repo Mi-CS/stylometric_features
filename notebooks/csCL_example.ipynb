{
 "cells": [
  {
   "cell_type": "code",
   "execution_count": 85,
   "metadata": {},
   "outputs": [],
   "source": [
    "import sys\n",
    "sys.path.append(\"../src\")\n",
    "import pandas as pd\n",
    "import numpy as np\n",
    "from sklearn.decomposition import PCA\n",
    "from sklearn.preprocessing import StandardScaler\n",
    "from sklearn.metrics import classification_report\n",
    "import matplotlib.pyplot as plt\n",
    "\n",
    "# Load scripts\n",
    "from text_cleaning import clean_text\n",
    "from clustering import KMeansAuthors, ModHausdorffDocument\n",
    "from style_point_cloud import style_point_cloud\n",
    "\n",
    "# Progress bar\n",
    "from tqdm import tqdm \n",
    "tqdm.pandas()"
   ]
  },
  {
   "cell_type": "markdown",
   "metadata": {},
   "source": [
    "# Data load and preprocessing"
   ]
  },
  {
   "cell_type": "code",
   "execution_count": 114,
   "metadata": {},
   "outputs": [
    {
     "name": "stderr",
     "output_type": "stream",
     "text": [
      "100%|██████████| 14/14 [00:00<00:00, 16.45it/s]\n",
      "100%|██████████| 14/14 [00:04<00:00,  2.96it/s]\n"
     ]
    }
   ],
   "source": [
    "df = pd.read_json(\"../data/csCL_sample.json\")\n",
    "\n",
    "# Text cleaning\n",
    "df.text_body = df.text_body.progress_apply(clean_text)\n",
    "\n",
    "# Generate point cloud for each text.\n",
    "df[\"point_cloud\"] = df.text_body.progress_apply(lambda text: style_point_cloud(text, window_size=600, window_overlap=300, max_tokens=15_000))\n",
    "\n",
    "# Remove documents with no points\n",
    "df = df[df.point_cloud.apply(len) > 0].copy()"
   ]
  },
  {
   "cell_type": "code",
   "execution_count": 115,
   "metadata": {},
   "outputs": [],
   "source": [
    "# This subsample was taking by considering if Diptesh Kanojia, Hannes Westermann, or Bing Liu\n",
    "# were among the first 2 authors, so let just first use them as sole authors. \n",
    "author_list = [\"Diptesh Kanojia\", \"Hannes Westermann\", \"Bing Liu\"]\n",
    "df[\"author_single\"] = df.authors.apply(lambda x: set(x).intersection(author_list).pop())\n",
    "\n",
    "# Create an author label for each point\n",
    "auth_labels = [[author]*n_chunks for author, n_chunks in \n",
    "                zip(df.author_single, df.point_cloud.apply(len))]\n",
    "\n",
    "# Flatten\n",
    "auth_labels = [x for y in auth_labels for x in y]"
   ]
  },
  {
   "cell_type": "markdown",
   "metadata": {},
   "source": [
    "# Method 1\n",
    "\n",
    "Simple K-Means and identify clusters"
   ]
  },
  {
   "cell_type": "code",
   "execution_count": 121,
   "metadata": {},
   "outputs": [],
   "source": [
    "data = StandardScaler().fit_transform(np.vstack(df.point_cloud))\n",
    "X = PCA(n_components=3).fit_transform(data)\n",
    "\n",
    "cl = KMeansAuthors(n_authors=3)"
   ]
  },
  {
   "cell_type": "code",
   "execution_count": 117,
   "metadata": {},
   "outputs": [],
   "source": [
    "# Fit data. Pass author labels to assign one author per cluster\n",
    "cl.fit(X, auth_labels)"
   ]
  },
  {
   "cell_type": "code",
   "execution_count": 118,
   "metadata": {},
   "outputs": [
    {
     "name": "stdout",
     "output_type": "stream",
     "text": [
      "                   precision    recall  f1-score   support\n",
      "\n",
      "         Bing Liu       1.00      0.40      0.57         5\n",
      "  Diptesh Kanojia       0.50      0.60      0.55         5\n",
      "Hannes Westermann       0.17      0.25      0.20         4\n",
      "\n",
      "         accuracy                           0.43        14\n",
      "        macro avg       0.56      0.42      0.44        14\n",
      "     weighted avg       0.58      0.43      0.46        14\n",
      "\n"
     ]
    }
   ],
   "source": [
    "# Metrics\n",
    "author_pred = cl.predict_document(X, df.point_cloud.apply(len).to_numpy())\n",
    "print(classification_report(y_true = df.author_single, y_pred = author_pred, zero_division=0))"
   ]
  },
  {
   "cell_type": "code",
   "execution_count": 108,
   "metadata": {},
   "outputs": [
    {
     "data": {
      "image/png": "[encoded data removed]",
      "text/plain": [
       "<Figure size 1080x360 with 2 Axes>"
      ]
     },
     "metadata": {
      "needs_background": "light"
     },
     "output_type": "display_data"
    }
   ],
   "source": [
    "# Since we are doing PCA, let's have a look at some visualizations\n",
    "predictions = cl.predict(X, author_labels=True)\n",
    "auth_idx = dict(zip(set(predictions), range(len(set(predictions)))))\n",
    "\n",
    "fig, (ax1, ax2) = plt.subplots(1, 2, figsize=(15, 5))\n",
    "for label in set(predictions): \n",
    "    mask_pred = [True if pr == label else False for pr in predictions]\n",
    "    mask_true = [True if pr == label else False for pr in auth_labels]\n",
    "    ax1.scatter(X[:, 0][mask_pred], X[:, 1][mask_pred], label=label)\n",
    "    ax2.scatter(X[:, 0][mask_true], X[:, 1][mask_true], label=label)\n",
    "    ax1.legend()\n",
    "    ax2.legend()\n",
    "    ax1.set_title(\"KMeans Predicted\")\n",
    "    ax2.set_title(\"True labels\")"
   ]
  },
  {
   "cell_type": "markdown",
   "metadata": {},
   "source": [
    "While it can be some sort of separation in the concentration of points by looking at the true labels plot between _Bing Liu_ and the other two, this still is not too K-Means friendly, as can clearly be seen in the predicted labels--and even clearer in the metrics above."
   ]
  },
  {
   "cell_type": "markdown",
   "metadata": {},
   "source": [
    "# Method 2\n",
    "\n",
    "Treat each style vector vector as a point and build a point cloud for each document. Then compute distances between them using a modified hausdorff distance and use, e.g., Agglomerative clustering from sklearn---or any other algorithm that admits a pre-computed metric and allow us to input the number of cluster. The latter is of course optional, one could simply run an algorithm that determines the number of clusters, but then it wouldn't be that visual to check the predictions as in this case. "
   ]
  },
  {
   "cell_type": "code",
   "execution_count": 110,
   "metadata": {},
   "outputs": [],
   "source": [
    "mhcl = ModHausdorffDocument(n_authors=3)\n",
    "mhcl.fit(X, doc_lengths=df.point_cloud.apply(len).to_numpy(), author_labels=df.author_single)"
   ]
  },
  {
   "cell_type": "code",
   "execution_count": 113,
   "metadata": {},
   "outputs": [
    {
     "name": "stdout",
     "output_type": "stream",
     "text": [
      "                   precision    recall  f1-score   support\n",
      "\n",
      "         Bing Liu       1.00      0.20      0.33         5\n",
      "  Diptesh Kanojia       0.56      1.00      0.71         5\n",
      "Hannes Westermann       1.00      1.00      1.00         4\n",
      "\n",
      "         accuracy                           0.71        14\n",
      "        macro avg       0.85      0.73      0.68        14\n",
      "     weighted avg       0.84      0.71      0.66        14\n",
      "\n"
     ]
    }
   ],
   "source": [
    "# Metrics\n",
    "author_pred = mhcl.predict_document()\n",
    "print(classification_report(y_true = df.author_single, y_pred = author_pred, zero_division=0))"
   ]
  },
  {
   "cell_type": "markdown",
   "metadata": {},
   "source": [
    "We definitely see an improvement with respect to the previous method. Though it is clear that half the _Diptesh Kanojia_ papers are classified as _Bing Liu_ ones, leaving a lot of room for improvement. However, we achieve a 70% of accuracy by this quick and simple method. "
   ]
  }
 ],
 "metadata": {
  "kernelspec": {
   "display_name": "Python 3.7.4 ('base')",
   "language": "python",
   "name": "python3"
  },
  "language_info": {
   "codemirror_mode": {
    "name": "ipython",
    "version": 3
   },
   "file_extension": ".py",
   "mimetype": "text/x-python",
   "name": "python",
   "nbconvert_exporter": "python",
   "pygments_lexer": "ipython3",
   "version": "3.7.4"
  },
  "orig_nbformat": 4,
  "vscode": {
   "interpreter": {
    "hash": "936a5b082d031c3f84051317a1cecdb9fa62954e636831d12ecae1cf9c53cca8"
   }
  }
 },
 "nbformat": 4,
 "nbformat_minor": 2
}
