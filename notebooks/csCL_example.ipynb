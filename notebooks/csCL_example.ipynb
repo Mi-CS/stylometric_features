{
 "cells": [
  {
   "cell_type": "code",
   "execution_count": 1,
   "metadata": {},
   "outputs": [],
   "source": [
    "# Add source folder to path\n",
    "import sys\n",
    "sys.path.append(\"../src\")\n",
    "\n",
    "# Basic imports\n",
    "import pandas as pd\n",
    "import numpy as np\n",
    "import matplotlib.pyplot as plt\n",
    "import networkx as nx\n",
    "\n",
    "# scikit-learn \n",
    "from sklearn.decomposition import PCA\n",
    "from sklearn.preprocessing import StandardScaler\n",
    "from sklearn.metrics import classification_report\n",
    "\n",
    "# Load scripts\n",
    "from text_cleaning import clean_text\n",
    "from clustering import KMeansAuthors, ModHausdorffDocument\n",
    "from style_point_cloud import style_point_cloud\n",
    "from multiauth_graph import doc_adjacency_matrix\n",
    "\n",
    "# Progress bar\n",
    "from tqdm import tqdm \n",
    "tqdm.pandas()\n",
    "\n",
    "%load_ext autoreload\n",
    "%autoreload 2"
   ]
  },
  {
   "cell_type": "markdown",
   "metadata": {},
   "source": [
    "# Data load and preprocessing"
   ]
  },
  {
   "cell_type": "code",
   "execution_count": 2,
   "metadata": {},
   "outputs": [
    {
     "name": "stderr",
     "output_type": "stream",
     "text": [
      "100%|██████████| 14/14 [00:00<00:00, 17.19it/s]\n",
      "100%|██████████| 14/14 [00:05<00:00,  2.63it/s]\n"
     ]
    }
   ],
   "source": [
    "df = pd.read_json(\"../data/csCL_sample.json\")\n",
    "\n",
    "# Text cleaning\n",
    "df.text_body = df.text_body.progress_apply(clean_text)\n",
    "\n",
    "# Generate point cloud for each text.\n",
    "df[\"point_cloud\"] = df.text_body.progress_apply(lambda text: style_point_cloud(text, window_size=600, window_overlap=300, max_tokens=15_000))\n",
    "\n",
    "# Remove documents with no points\n",
    "df = df[df.point_cloud.apply(len) > 0].copy()"
   ]
  },
  {
   "cell_type": "code",
   "execution_count": 3,
   "metadata": {},
   "outputs": [],
   "source": [
    "# This subsample was taking by considering if Diptesh Kanojia, Hannes Westermann, or Bing Liu\n",
    "# were among the first 2 authors, so let just first use them as sole authors. \n",
    "author_list = [\"Diptesh Kanojia\", \"Hannes Westermann\", \"Bing Liu\"]\n",
    "df[\"author_single\"] = df.authors.apply(lambda x: set(x).intersection(author_list).pop())\n",
    "\n",
    "# Create an author label for each point\n",
    "auth_labels = [[author]*n_chunks for author, n_chunks in \n",
    "                zip(df.author_single, df.point_cloud.apply(len))]\n",
    "\n",
    "# Flatten\n",
    "auth_labels = [x for y in auth_labels for x in y]"
   ]
  },
  {
   "cell_type": "markdown",
   "metadata": {},
   "source": [
    "# Method 1\n",
    "\n",
    "Simple K-Means and identify clusters"
   ]
  },
  {
   "cell_type": "code",
   "execution_count": 121,
   "metadata": {},
   "outputs": [],
   "source": [
    "data = StandardScaler().fit_transform(np.vstack(df.point_cloud))\n",
    "X = PCA(n_components=3).fit_transform(data)\n",
    "\n",
    "cl = KMeansAuthors(n_authors=3)"
   ]
  },
  {
   "cell_type": "code",
   "execution_count": 117,
   "metadata": {},
   "outputs": [],
   "source": [
    "# Fit data. Pass author labels to assign one author per cluster\n",
    "cl.fit(X, auth_labels)"
   ]
  },
  {
   "cell_type": "code",
   "execution_count": 118,
   "metadata": {},
   "outputs": [
    {
     "name": "stdout",
     "output_type": "stream",
     "text": [
      "                   precision    recall  f1-score   support\n",
      "\n",
      "         Bing Liu       1.00      0.40      0.57         5\n",
      "  Diptesh Kanojia       0.50      0.60      0.55         5\n",
      "Hannes Westermann       0.17      0.25      0.20         4\n",
      "\n",
      "         accuracy                           0.43        14\n",
      "        macro avg       0.56      0.42      0.44        14\n",
      "     weighted avg       0.58      0.43      0.46        14\n",
      "\n"
     ]
    }
   ],
   "source": [
    "# Metrics\n",
    "author_pred = cl.predict_document(X, df.point_cloud.apply(len).to_numpy())\n",
    "print(classification_report(y_true = df.author_single, y_pred = author_pred, zero_division=0))"
   ]
  },
  {
   "cell_type": "code",
   "execution_count": 108,
   "metadata": {},
   "outputs": [
    {
     "data": {
      "image/png": "[encoded data removed]",
      "text/plain": [
       "<Figure size 1080x360 with 2 Axes>"
      ]
     },
     "metadata": {
      "needs_background": "light"
     },
     "output_type": "display_data"
    }
   ],
   "source": [
    "# Since we are doing PCA, let's have a look at some visualizations\n",
    "predictions = cl.predict(X, author_labels=True)\n",
    "auth_idx = dict(zip(set(predictions), range(len(set(predictions)))))\n",
    "\n",
    "fig, (ax1, ax2) = plt.subplots(1, 2, figsize=(15, 5))\n",
    "for label in set(predictions): \n",
    "    mask_pred = [True if pr == label else False for pr in predictions]\n",
    "    mask_true = [True if pr == label else False for pr in auth_labels]\n",
    "    ax1.scatter(X[:, 0][mask_pred], X[:, 1][mask_pred], label=label)\n",
    "    ax2.scatter(X[:, 0][mask_true], X[:, 1][mask_true], label=label)\n",
    "    ax1.legend()\n",
    "    ax2.legend()\n",
    "    ax1.set_title(\"KMeans Predicted\")\n",
    "    ax2.set_title(\"True labels\")"
   ]
  },
  {
   "cell_type": "markdown",
   "metadata": {},
   "source": [
    "While it can be some sort of separation in the concentration of points by looking at the true labels plot between _Bing Liu_ and the other two, this still is not too K-Means friendly, as can clearly be seen in the predicted labels--and even clearer in the metrics above."
   ]
  },
  {
   "cell_type": "markdown",
   "metadata": {},
   "source": [
    "# Method 2\n",
    "\n",
    "Treat each style vector vector as a point and build a point cloud for each document. Then compute distances between them using a modified hausdorff distance and use, e.g., Agglomerative clustering from sklearn---or any other algorithm that admits a pre-computed metric and allow us to input the number of cluster. The latter is of course optional, one could simply run an algorithm that determines the number of clusters, but then it wouldn't be that visual to check the predictions as in this case. "
   ]
  },
  {
   "cell_type": "code",
   "execution_count": 110,
   "metadata": {},
   "outputs": [],
   "source": [
    "mhcl = ModHausdorffDocument(n_authors=3)\n",
    "mhcl.fit(X, doc_lengths=df.point_cloud.apply(len).to_numpy(), author_labels=df.author_single)"
   ]
  },
  {
   "cell_type": "code",
   "execution_count": 113,
   "metadata": {},
   "outputs": [
    {
     "name": "stdout",
     "output_type": "stream",
     "text": [
      "                   precision    recall  f1-score   support\n",
      "\n",
      "         Bing Liu       1.00      0.20      0.33         5\n",
      "  Diptesh Kanojia       0.56      1.00      0.71         5\n",
      "Hannes Westermann       1.00      1.00      1.00         4\n",
      "\n",
      "         accuracy                           0.71        14\n",
      "        macro avg       0.85      0.73      0.68        14\n",
      "     weighted avg       0.84      0.71      0.66        14\n",
      "\n"
     ]
    }
   ],
   "source": [
    "# Metrics\n",
    "author_pred = mhcl.predict_document()\n",
    "print(classification_report(y_true = df.author_single, y_pred = author_pred, zero_division=0))"
   ]
  },
  {
   "cell_type": "markdown",
   "metadata": {},
   "source": [
    "We definitely see an improvement with respect to the previous method. Though it is clear that half the _Diptesh Kanojia_ papers are classified as _Bing Liu_ ones, leaving a lot of room for improvement. However, we achieve a 70% of accuracy by this quick and simple method. "
   ]
  },
  {
   "cell_type": "markdown",
   "metadata": {},
   "source": [
    "# Multi-author information\n",
    "\n",
    "For multi-author texts, different parts of the text will be written by different authors. We can explore this by, instead of using a point cloud for the whole document, as done above, we create several point clouds for fragments of each document, and explore how close these fragments are.\n",
    "\n",
    "We can then create a graph linking the documents, where each edge would connect documents that share similar style---thus, potentially, similar author---in their fragments."
   ]
  },
  {
   "cell_type": "code",
   "execution_count": 4,
   "metadata": {},
   "outputs": [
    {
     "name": "stderr",
     "output_type": "stream",
     "text": [
      "100%|██████████| 14/14 [00:06<00:00,  2.14it/s]\n"
     ]
    }
   ],
   "source": [
    "# Generate again the point clouds. This time with a bit more of\n",
    "# overlap\n",
    "df[\"point_cloud\"] = df.text_body.progress_apply(lambda text:\n",
    " style_point_cloud(text, window_size=600, window_overlap=400, max_tokens=15_000))"
   ]
  },
  {
   "cell_type": "code",
   "execution_count": 5,
   "metadata": {},
   "outputs": [],
   "source": [
    "# Create a sliding window to create point cloud of the \n",
    "# fragments. We also add here some overlap. \n",
    "frag_size = 6\n",
    "overlap = 4\n",
    "\n",
    "df.point_cloud = df.point_cloud.apply(lambda x: [x[i:i+frag_size] for i in\n",
    "                                  range(0,\n",
    "                                   len(x)-frag_size+overlap,\n",
    "                                    frag_size-overlap)])"
   ]
  },
  {
   "cell_type": "code",
   "execution_count": 65,
   "metadata": {},
   "outputs": [],
   "source": [
    "# Compute adjacency matrix\n",
    "adj_matrix = doc_adjacency_matrix(df.point_cloud,\n",
    "    method=\"closest\",\n",
    "    n_fragments=10,\n",
    "    min_fragments=15)"
   ]
  },
  {
   "cell_type": "code",
   "execution_count": 71,
   "metadata": {},
   "outputs": [
    {
     "name": "stdout",
     "output_type": "stream",
     "text": [
      "{'Diptesh Kanojia': 'red', 'Hannes Westermann': 'lightblue', 'Bing Liu': 'green'}\n"
     ]
    },
    {
     "data": {
      "image/png": "[encoded data removed]",
      "text/plain": [
       "<Figure size 432x288 with 1 Axes>"
      ]
     },
     "metadata": {},
     "output_type": "display_data"
    }
   ],
   "source": [
    "graph_auth = list(df.authors.apply(lambda x: set(x).intersection(author_list).pop()))\n",
    "auth_col_dict = dict(zip(set(graph_auth), \"red lightblue green\".split()))\n",
    "n_auth = [auth_list.index(auth) + 1 for auth_list, auth in zip(df.authors, graph_auth)]\n",
    "graph_auth_col = [auth_col_dict[ath] for ath in graph_auth]\n",
    "\n",
    "G = nx.Graph(adj_matrix)\n",
    "widths = np.array(list(nx.get_edge_attributes(G, 'weight').values()))\n",
    "\n",
    "nx.draw_kamada_kawai(G, node_color = graph_auth_col,\n",
    "        width=4*widths/widths.max(), \n",
    "        labels = {i:ath for i, ath in zip(range(len(n_auth)), n_auth)})\n",
    "print(auth_col_dict)"
   ]
  },
  {
   "cell_type": "markdown",
   "metadata": {},
   "source": [
    "The width of the edge is proportional to the number of _closest fragments_ between documents, and the node number is the place in which the authors appear (either as a first or as a second author). \n",
    "Bing Liu's papers, appeared quite clustered and the links between these documents also seem to be quite strong. Diptesh Kanojia and Hannes Westermann appear a bit more mixed. For the former, we could in principle identify a region with three of his papers. For the latter, all their papers appear _close_ in the graph, but the links are in general not too strong. "
   ]
  }
 ],
 "metadata": {
  "kernelspec": {
   "display_name": "nl_env",
   "language": "python",
   "name": "nl_env"
  },
  "language_info": {
   "codemirror_mode": {
    "name": "ipython",
    "version": 3
   },
   "file_extension": ".py",
   "mimetype": "text/x-python",
   "name": "python",
   "nbconvert_exporter": "python",
   "pygments_lexer": "ipython3",
   "version": "3.9.12"
  },
  "orig_nbformat": 4,
  "vscode": {
   "interpreter": {
    "hash": "936a5b082d031c3f84051317a1cecdb9fa62954e636831d12ecae1cf9c53cca8"
   }
  }
 },
 "nbformat": 4,
 "nbformat_minor": 2
}
